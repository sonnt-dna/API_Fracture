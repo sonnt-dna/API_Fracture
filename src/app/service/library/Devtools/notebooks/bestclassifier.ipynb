{
 "cells": [
  {
   "cell_type": "markdown",
   "id": "9650352b-854a-45a6-b1db-bccbc27497a3",
   "metadata": {
    "pycharm": {
     "name": "#%% md\n"
    }
   },
   "source": [
    "<center><img src=\"http://vpi.pvn.vn/wp-content/uploads/2020/07/VPI_logo.png\" width=50, height=auto/></center>"
   ]
  },
  {
   "cell_type": "markdown",
   "id": "a297fdb9-c85f-4d2b-bb79-670ea5512186",
   "metadata": {
    "pycharm": {
     "name": "#%% md\n"
    },
    "tags": []
   },
   "source": [
    "<h1><center>Find Best Classification Algorithm</center></h1>"
   ]
  },
  {
   "cell_type": "markdown",
   "id": "0345409a-9564-4d5f-89b4-76ccfa8f5953",
   "metadata": {
    "pycharm": {
     "name": "#%% md\n"
    }
   },
   "source": [
    "## Import libraries"
   ]
  },
  {
   "cell_type": "code",
   "execution_count": 3,
   "id": "5f63e868-a84b-46e4-8315-e0684325fb93",
   "metadata": {
    "collapsed": true,
    "jupyter": {
     "outputs_hidden": true
    },
    "pycharm": {
     "name": "#%%\n"
    },
    "tags": []
   },
   "outputs": [
    {
     "name": "stdout",
     "output_type": "stream",
     "text": [
      "Requirement already satisfied: mlens in /Users/nguyens/miniforge3/envs/nguyensflow/lib/python3.9/site-packages (0.2.3)\n",
      "Requirement already satisfied: scikit-optimize in /Users/nguyens/miniforge3/envs/nguyensflow/lib/python3.9/site-packages (0.9.0)\n",
      "Requirement already satisfied: imblearn in /Users/nguyens/miniforge3/envs/nguyensflow/lib/python3.9/site-packages (0.0)\n",
      "Requirement already satisfied: numpy>=1.11 in /Users/nguyens/miniforge3/envs/nguyensflow/lib/python3.9/site-packages (from mlens) (1.23.1)\n",
      "Requirement already satisfied: scipy>=0.17 in /Users/nguyens/miniforge3/envs/nguyensflow/lib/python3.9/site-packages (from mlens) (1.8.0)\n",
      "Requirement already satisfied: joblib>=0.11 in /Users/nguyens/miniforge3/envs/nguyensflow/lib/python3.9/site-packages (from scikit-optimize) (1.1.0)\n",
      "Requirement already satisfied: scikit-learn>=0.20.0 in /Users/nguyens/miniforge3/envs/nguyensflow/lib/python3.9/site-packages (from scikit-optimize) (1.1.2)\n",
      "Requirement already satisfied: pyaml>=16.9 in /Users/nguyens/miniforge3/envs/nguyensflow/lib/python3.9/site-packages (from scikit-optimize) (21.10.1)\n",
      "Requirement already satisfied: imbalanced-learn in /Users/nguyens/miniforge3/envs/nguyensflow/lib/python3.9/site-packages (from imblearn) (0.9.1)\n",
      "Requirement already satisfied: PyYAML in /Users/nguyens/miniforge3/envs/nguyensflow/lib/python3.9/site-packages (from pyaml>=16.9->scikit-optimize) (6.0)\n",
      "Requirement already satisfied: threadpoolctl>=2.0.0 in /Users/nguyens/miniforge3/envs/nguyensflow/lib/python3.9/site-packages (from scikit-learn>=0.20.0->scikit-optimize) (3.1.0)\n"
     ]
    }
   ],
   "source": [
    "!pip install mlens scikit-optimize imblearn"
   ]
  },
  {
   "cell_type": "code",
   "execution_count": 1,
   "id": "7a5ac7ff-b378-40ad-b333-d4382972eae2",
   "metadata": {
    "ExecuteTime": {
     "end_time": "2022-08-14T06:16:39.583515Z",
     "start_time": "2022-08-14T06:16:39.572134Z"
    },
    "pycharm": {
     "name": "#%%\n"
    }
   },
   "outputs": [],
   "source": [
    "import sys\n",
    "sys.path.append('../')\n"
   ]
  },
  {
   "cell_type": "code",
   "execution_count": 2,
   "id": "b1aa0413-8a2c-493c-9f18-161db9a92f86",
   "metadata": {
    "ExecuteTime": {
     "end_time": "2022-08-14T06:16:40.395811Z",
     "start_time": "2022-08-14T06:16:39.780973Z"
    },
    "pycharm": {
     "name": "#%%\n"
    }
   },
   "outputs": [],
   "source": [
    "from Classification. import ClassifierFinder\n",
    "import pandas as pd\n",
    "import numpy as np\n",
    "import warnings\n",
    "warnings.filterwarnings('ignore')\n"
   ]
  },
  {
   "cell_type": "markdown",
   "id": "4b41bd51-2782-46dc-a568-32e7df2f9c93",
   "metadata": {
    "pycharm": {
     "name": "#%% md\n"
    }
   },
   "source": [
    "## Load data"
   ]
  },
  {
   "cell_type": "code",
   "execution_count": 3,
   "id": "c9c8cd1c-d5c9-4759-82bd-4ad8deeb756d",
   "metadata": {
    "ExecuteTime": {
     "end_time": "2022-08-14T06:16:40.513001Z",
     "start_time": "2022-08-14T06:16:40.396809Z"
    },
    "pycharm": {
     "name": "#%%\n"
    }
   },
   "outputs": [],
   "source": [
    "seed = 42\n",
    "data_path = '../data/220718-newdata.csv'\n",
    "data = pd.read_csv(data_path)\n",
    "\n",
    "features = [\"SPP\", \"TORQUE\", \"FLWPMPS\", \"ROP\", \"RPM\", \"TGAS\", \"DCALI_FINAL\"]\n",
    "label = 'FRACTURE_ZONE'\n",
    "data = data.dropna(subset=[label, 'RPM', 'TORQUE'])\n",
    "data = data.sample(frac=0.05)\n",
    "\n",
    "X = data[features]\n",
    "X[\"TperR\"] = X.apply(lambda x: x[1] / x[4] if x[4]!=0 else 0, axis=1)\n",
    "X=X.drop(columns=\"RPM\")\n",
    "labels = data[label]\n"
   ]
  },
  {
   "cell_type": "code",
   "execution_count": 4,
   "id": "c78a3cae-28b6-4363-a107-c6ba3895283d",
   "metadata": {
    "ExecuteTime": {
     "end_time": "2022-08-14T06:16:40.519453Z",
     "start_time": "2022-08-14T06:16:40.513980Z"
    },
    "pycharm": {
     "name": "#%%\n"
    },
    "scrolled": true
   },
   "outputs": [
    {
     "data": {
      "text/html": [
       "<div><div id=8aa70132-a4cf-4109-9a9b-35b855326228 style=\"display:none; background-color:#9D6CFF; color:white; width:200px; height:30px; padding-left:5px; border-radius:4px; flex-direction:row; justify-content:space-around; align-items:center;\" onmouseover=\"this.style.backgroundColor='#BA9BF8'\" onmouseout=\"this.style.backgroundColor='#9D6CFF'\" onclick=\"window.commands?.execute('create-mitosheet-from-dataframe-output');\">See Full Dataframe in Mito</div> <script> if (window.commands?.hasCommand('create-mitosheet-from-dataframe-output')) document.getElementById('8aa70132-a4cf-4109-9a9b-35b855326228').style.display = 'flex' </script> <table border=\"1\" class=\"dataframe\">\n",
       "  <thead>\n",
       "    <tr style=\"text-align: right;\">\n",
       "      <th></th>\n",
       "      <th>SPP</th>\n",
       "      <th>TORQUE</th>\n",
       "      <th>FLWPMPS</th>\n",
       "      <th>ROP</th>\n",
       "      <th>TGAS</th>\n",
       "      <th>DCALI_FINAL</th>\n",
       "      <th>TperR</th>\n",
       "    </tr>\n",
       "  </thead>\n",
       "  <tbody>\n",
       "    <tr>\n",
       "      <th>91835</th>\n",
       "      <td>2236.598389</td>\n",
       "      <td>15423.992188</td>\n",
       "      <td>222.000000</td>\n",
       "      <td>8.867792</td>\n",
       "      <td>NaN</td>\n",
       "      <td>0.053369</td>\n",
       "      <td>96.399951</td>\n",
       "    </tr>\n",
       "    <tr>\n",
       "      <th>40665</th>\n",
       "      <td>2628.768066</td>\n",
       "      <td>18568.119141</td>\n",
       "      <td>558.000000</td>\n",
       "      <td>8.947880</td>\n",
       "      <td>1538.447998</td>\n",
       "      <td>NaN</td>\n",
       "      <td>93.778379</td>\n",
       "    </tr>\n",
       "    <tr>\n",
       "      <th>89128</th>\n",
       "      <td>2406.447998</td>\n",
       "      <td>0.000000</td>\n",
       "      <td>247.000000</td>\n",
       "      <td>7.745340</td>\n",
       "      <td>NaN</td>\n",
       "      <td>0.080780</td>\n",
       "      <td>0.000000</td>\n",
       "    </tr>\n",
       "    <tr>\n",
       "      <th>82076</th>\n",
       "      <td>3215.023926</td>\n",
       "      <td>6816.304199</td>\n",
       "      <td>247.000000</td>\n",
       "      <td>9.834960</td>\n",
       "      <td>0.000000</td>\n",
       "      <td>NaN</td>\n",
       "      <td>39.400602</td>\n",
       "    </tr>\n",
       "    <tr>\n",
       "      <th>15285</th>\n",
       "      <td>2638.000000</td>\n",
       "      <td>9393.927734</td>\n",
       "      <td>496.622009</td>\n",
       "      <td>12.626559</td>\n",
       "      <td>0.000000</td>\n",
       "      <td>0.246073</td>\n",
       "      <td>52.887188</td>\n",
       "    </tr>\n",
       "  </tbody>\n",
       "</table></div>"
      ],
      "text/plain": [
       "               SPP        TORQUE     FLWPMPS        ROP         TGAS  \\\n",
       "91835  2236.598389  15423.992188  222.000000   8.867792          NaN   \n",
       "40665  2628.768066  18568.119141  558.000000   8.947880  1538.447998   \n",
       "89128  2406.447998      0.000000  247.000000   7.745340          NaN   \n",
       "82076  3215.023926   6816.304199  247.000000   9.834960     0.000000   \n",
       "15285  2638.000000   9393.927734  496.622009  12.626559     0.000000   \n",
       "\n",
       "       DCALI_FINAL      TperR  \n",
       "91835     0.053369  96.399951  \n",
       "40665          NaN  93.778379  \n",
       "89128     0.080780   0.000000  \n",
       "82076          NaN  39.400602  \n",
       "15285     0.246073  52.887188  "
      ]
     },
     "execution_count": 4,
     "metadata": {},
     "output_type": "execute_result"
    }
   ],
   "source": [
    "X.head()"
   ]
  },
  {
   "cell_type": "markdown",
   "id": "b19cce86-1cff-4543-9e5d-8169336785e2",
   "metadata": {
    "pycharm": {
     "name": "#%% md\n"
    }
   },
   "source": [
    "## Find Best Algorithms"
   ]
  },
  {
   "cell_type": "code",
   "execution_count": null,
   "id": "8aa3477e-a707-475c-9cdd-f722772e87af",
   "metadata": {
    "ExecuteTime": {
     "start_time": "2022-08-14T06:16:41.483Z"
    },
    "pycharm": {
     "name": "#%%\n"
    }
   },
   "outputs": [
    {
     "name": "stdout",
     "output_type": "stream",
     "text": [
      "Auto Tuning to select the best model has been started. It might take a while!\n",
      "1. Tuning Logistic model\n",
      "\t- Status\t: Done!\n",
      "\t- Train score\t: 0.6717075166024442\n",
      "\t- Valid score\t: 0.6611179129636862\n",
      "\t- Time consumed\t: 2.73 minutes\n",
      "2. Tuning Support Vector Machine model\n",
      "\t- Status\t: Done!\n",
      "\t- Train score\t: 0.6690920594161415\n",
      "\t- Valid score\t: 0.6582928599468727\n",
      "\t- Time consumed\t: 0.02 minutes\n",
      "3. Tuning ExtraTree model\n",
      "\t- Status\t: Done!\n",
      "\t- Train score\t: 0.8819676151439912\n",
      "\t- Valid score\t: 0.8114865202670754\n",
      "\t- Time consumed\t: 7.03 minutes\n",
      "4. Tuning RandomForest model\n",
      "\t- Status\t: Done!\n",
      "\t- Train score\t: 0.819643176729788\n",
      "\t- Valid score\t: 0.7388617799958823\n",
      "\t- Time consumed\t: 8.38 minutes\n",
      "5. Tuning GradientBoost model\n",
      "\t- Status\t: Done!\n",
      "\t- Train score\t: 0.8303887698544223\n",
      "\t- Valid score\t: 0.7883870217284525\n",
      "\t- Time consumed\t: 7.7 minutes\n",
      "6. Tuning Voting model\n",
      "\t- Status\t: Done!\n",
      "\t- Train score\t: 0.9772174366320595\n",
      "\t- Valid score\t: 0.7890457625538053\n",
      "\t- Time consumed\t: 0.03 minutes\n",
      "7. Tuning Stacking model\n",
      "\t- Status\t: Done!\n",
      "\t- Train score\t: 0.9069985005605422\n",
      "\t- Valid score\t: 0.7466567871840871\n",
      "\t- Time consumed\t: 0.07 minutes\n",
      "8. Tuning HistGradientBoost model\n",
      "\t- Status\t: Done!\n",
      "\t- Train score\t: 0.8612550120413276\n",
      "\t- Valid score\t: 0.7883529126649672\n",
      "\t- Time consumed\t: 5.91 minutes\n",
      "9. Tuning XGBoost model\n",
      "\t- Status\t: Done!\n",
      "\t- Train score\t: 0.8390821972987491\n",
      "\t- Valid score\t: 0.7937345830597087\n",
      "\t- Time consumed\t: 19.27 minutes\n",
      "10. Tuning LightGBM model\n",
      "\t- Status\t: Done!\n",
      "\t- Train score\t: 0.8416381890157666\n",
      "\t- Valid score\t: 0.7754349686146941\n",
      "\t- Time consumed\t: 8.12 minutes\n",
      "11. Tuning BalancedRandomForest model\n",
      "\t- Status\t: Done!\n",
      "\t- Train score\t: 0.8456132014979262\n",
      "\t- Valid score\t: 0.7646665881869871\n",
      "\t- Time consumed\t: 10.77 minutes\n",
      "12. Tuning EasyEnsemble model\n",
      "\t- Status\t: Done!\n",
      "\t- Train score\t: 0.7771894713295806\n",
      "\t- Valid score\t: 0.7474294935175555\n",
      "\t- Time consumed\t: 71.1 minutes\n",
      "13. Tuning BalancedBagging model\n",
      "\t- Status\t: Done!\n",
      "\t- Train score\t: 0.8177615371402053\n",
      "\t- Valid score\t: 0.7705173182203853\n",
      "\t- Time consumed\t: 0.53 minutes\n",
      "\n",
      "Fine Tune has finished in 141.67 minutes.         Please wait moment for finding the best model\n"
     ]
    }
   ],
   "source": [
    "Model, train_score, validation_score, all_scores = ClassifierFinder(\n",
    "    features=X,\n",
    "    labels=labels,\n",
    "    validation_size=0.2,\n",
    "    scoring='f1_weighted',\n",
    "    max_train_valid_drop=0.075,\n",
    "    imbalanced=True,\n",
    ")\n"
   ]
  },
  {
   "cell_type": "code",
   "execution_count": null,
   "id": "a50f86c2",
   "metadata": {},
   "outputs": [],
   "source": []
  }
 ],
 "metadata": {
  "kernelspec": {
   "display_name": "apache-airflow",
   "language": "python",
   "name": "apache-airflow"
  },
  "language_info": {
   "codemirror_mode": {
    "name": "ipython",
    "version": 3
   },
   "file_extension": ".py",
   "mimetype": "text/x-python",
   "name": "python",
   "nbconvert_exporter": "python",
   "pygments_lexer": "ipython3",
   "version": "3.9.12"
  }
 },
 "nbformat": 4,
 "nbformat_minor": 5
}
