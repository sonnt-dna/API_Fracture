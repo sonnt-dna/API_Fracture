{
 "cells": [
  {
   "cell_type": "markdown",
   "id": "9650352b-854a-45a6-b1db-bccbc27497a3",
   "metadata": {
    "pycharm": {
     "name": "#%% md\n"
    }
   },
   "source": [
    "<center><img src=\"http://vpi.pvn.vn/wp-content/uploads/2020/07/VPI_logo.png\" width=50, height=auto/></center>"
   ]
  },
  {
   "cell_type": "markdown",
   "id": "a297fdb9-c85f-4d2b-bb79-670ea5512186",
   "metadata": {
    "pycharm": {
     "name": "#%% md\n"
    }
   },
   "source": [
    "<h1><center>Train an Regression Algorithm</center></h1>"
   ]
  },
  {
   "cell_type": "markdown",
   "id": "0345409a-9564-4d5f-89b4-76ccfa8f5953",
   "metadata": {
    "pycharm": {
     "name": "#%% md\n"
    }
   },
   "source": [
    "## Import libraries"
   ]
  },
  {
   "cell_type": "code",
   "execution_count": null,
   "id": "5f63e868-a84b-46e4-8315-e0684325fb93",
   "metadata": {
    "pycharm": {
     "name": "#%%\n"
    }
   },
   "outputs": [],
   "source": [
    "!pip install mlens scikit-optimize imblearn optuna"
   ]
  },
  {
   "cell_type": "code",
   "execution_count": 1,
   "id": "7a5ac7ff-b378-40ad-b333-d4382972eae2",
   "metadata": {
    "pycharm": {
     "name": "#%%\n"
    }
   },
   "outputs": [],
   "source": [
    "import sys\n",
    "sys.path.append('../')\n"
   ]
  },
  {
   "cell_type": "code",
   "execution_count": 2,
   "id": "b1aa0413-8a2c-493c-9f18-161db9a92f86",
   "metadata": {
    "pycharm": {
     "name": "#%%\n"
    }
   },
   "outputs": [
    {
     "name": "stderr",
     "output_type": "stream",
     "text": [
      "[MLENS] backend: threading\n"
     ]
    }
   ],
   "source": [
    "from Regression.regressionoptuna import RegressorTuna\n",
    "import pandas as pd\n",
    "import numpy as np\n",
    "import warnings\n",
    "warnings.filterwarnings('ignore')\n"
   ]
  },
  {
   "cell_type": "markdown",
   "id": "4b41bd51-2782-46dc-a568-32e7df2f9c93",
   "metadata": {
    "pycharm": {
     "name": "#%% md\n"
    }
   },
   "source": [
    "## Load data"
   ]
  },
  {
   "cell_type": "code",
   "execution_count": 3,
   "id": "c9c8cd1c-d5c9-4759-82bd-4ad8deeb756d",
   "metadata": {
    "pycharm": {
     "name": "#%%\n"
    }
   },
   "outputs": [],
   "source": [
    "seed = 42\n",
    "data_path = '../data/data_reg.csv'\n",
    "data = pd.read_csv(data_path)\n",
    "features = [\"CALI\", \"DCALI_FINAL\", \"DTC\", \"GR\", \"LLD\", \"LLS\", \"NPHI\", \"VP\"]\n",
    "\n",
    "data = data.dropna(subset=[\"RHOB\"])\n",
    "X = pd.DataFrame(np.log1p(data[features]), columns=features)\n",
    "target = data['RHOB']\n"
   ]
  },
  {
   "cell_type": "code",
   "execution_count": 4,
   "id": "c78a3cae-28b6-4363-a107-c6ba3895283d",
   "metadata": {
    "pycharm": {
     "name": "#%%\n"
    }
   },
   "outputs": [
    {
     "data": {
      "text/html": [
       "<div><div id=42d1e49c-cfe3-4687-9f37-774b57169900 style=\"display:none; background-color:#9D6CFF; color:white; width:200px; height:30px; padding-left:5px; border-radius:4px; flex-direction:row; justify-content:space-around; align-items:center;\" onmouseover=\"this.style.backgroundColor='#BA9BF8'\" onmouseout=\"this.style.backgroundColor='#9D6CFF'\" onclick=\"window.commands?.execute('create-mitosheet-from-dataframe-output');\">See Full Dataframe in Mito</div> <script> if (window.commands?.hasCommand('create-mitosheet-from-dataframe-output')) document.getElementById('42d1e49c-cfe3-4687-9f37-774b57169900').style.display = 'flex' </script> <table border=\"1\" class=\"dataframe\">\n",
       "  <thead>\n",
       "    <tr style=\"text-align: right;\">\n",
       "      <th></th>\n",
       "      <th>CALI</th>\n",
       "      <th>DCALI_FINAL</th>\n",
       "      <th>DTC</th>\n",
       "      <th>GR</th>\n",
       "      <th>LLD</th>\n",
       "      <th>LLS</th>\n",
       "      <th>NPHI</th>\n",
       "      <th>VP</th>\n",
       "    </tr>\n",
       "  </thead>\n",
       "  <tbody>\n",
       "    <tr>\n",
       "      <th>0</th>\n",
       "      <td>2.307431</td>\n",
       "      <td>0.437339</td>\n",
       "      <td>3.975212</td>\n",
       "      <td>4.611685</td>\n",
       "      <td>6.169607</td>\n",
       "      <td>2.539530</td>\n",
       "      <td>0.033283</td>\n",
       "      <td>8.681767</td>\n",
       "    </tr>\n",
       "    <tr>\n",
       "      <th>1</th>\n",
       "      <td>2.298544</td>\n",
       "      <td>0.378214</td>\n",
       "      <td>3.969843</td>\n",
       "      <td>4.637823</td>\n",
       "      <td>5.984746</td>\n",
       "      <td>2.458184</td>\n",
       "      <td>0.036374</td>\n",
       "      <td>8.687238</td>\n",
       "    </tr>\n",
       "    <tr>\n",
       "      <th>2</th>\n",
       "      <td>2.297854</td>\n",
       "      <td>0.373496</td>\n",
       "      <td>3.974148</td>\n",
       "      <td>4.628370</td>\n",
       "      <td>5.858496</td>\n",
       "      <td>2.497003</td>\n",
       "      <td>0.040327</td>\n",
       "      <td>8.682851</td>\n",
       "    </tr>\n",
       "    <tr>\n",
       "      <th>3</th>\n",
       "      <td>2.300096</td>\n",
       "      <td>0.388753</td>\n",
       "      <td>3.967123</td>\n",
       "      <td>4.615406</td>\n",
       "      <td>5.808677</td>\n",
       "      <td>2.523699</td>\n",
       "      <td>0.043067</td>\n",
       "      <td>8.690009</td>\n",
       "    </tr>\n",
       "    <tr>\n",
       "      <th>4</th>\n",
       "      <td>2.300894</td>\n",
       "      <td>0.394134</td>\n",
       "      <td>3.957745</td>\n",
       "      <td>4.609159</td>\n",
       "      <td>6.126710</td>\n",
       "      <td>2.533453</td>\n",
       "      <td>0.042381</td>\n",
       "      <td>8.699567</td>\n",
       "    </tr>\n",
       "  </tbody>\n",
       "</table></div>"
      ],
      "text/plain": [
       "       CALI  DCALI_FINAL       DTC        GR       LLD       LLS      NPHI  \\\n",
       "0  2.307431     0.437339  3.975212  4.611685  6.169607  2.539530  0.033283   \n",
       "1  2.298544     0.378214  3.969843  4.637823  5.984746  2.458184  0.036374   \n",
       "2  2.297854     0.373496  3.974148  4.628370  5.858496  2.497003  0.040327   \n",
       "3  2.300096     0.388753  3.967123  4.615406  5.808677  2.523699  0.043067   \n",
       "4  2.300894     0.394134  3.957745  4.609159  6.126710  2.533453  0.042381   \n",
       "\n",
       "         VP  \n",
       "0  8.681767  \n",
       "1  8.687238  \n",
       "2  8.682851  \n",
       "3  8.690009  \n",
       "4  8.699567  "
      ]
     },
     "execution_count": 4,
     "metadata": {},
     "output_type": "execute_result"
    }
   ],
   "source": [
    "X.head()"
   ]
  },
  {
   "cell_type": "markdown",
   "id": "b19cce86-1cff-4543-9e5d-8169336785e2",
   "metadata": {
    "pycharm": {
     "name": "#%% md\n"
    }
   },
   "source": [
    "## Evaluate LightGBM"
   ]
  },
  {
   "cell_type": "code",
   "execution_count": null,
   "id": "8aa3477e-a707-475c-9cdd-f722772e87af",
   "metadata": {
    "pycharm": {
     "name": "#%%\n"
    }
   },
   "outputs": [],
   "source": [
    "Model, train_score, valid_score = RegressorTuna(\n",
    "    features=X,\n",
    "    target=target,\n",
    "    validation_size=0.2,\n",
    "    algorithm='LightGBM',\n",
    "    scoring='MAE',\n",
    "    )\n"
   ]
  }
 ],
 "metadata": {
  "kernelspec": {
   "display_name": "apache-airflow",
   "language": "python",
   "name": "apache-airflow"
  },
  "language_info": {
   "codemirror_mode": {
    "name": "ipython",
    "version": 3
   },
   "file_extension": ".py",
   "mimetype": "text/x-python",
   "name": "python",
   "nbconvert_exporter": "python",
   "pygments_lexer": "ipython3",
   "version": "3.9.12"
  }
 },
 "nbformat": 4,
 "nbformat_minor": 5
}