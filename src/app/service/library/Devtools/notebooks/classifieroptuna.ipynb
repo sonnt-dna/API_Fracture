{
 "cells": [
  {
   "cell_type": "markdown",
   "id": "9650352b-854a-45a6-b1db-bccbc27497a3",
   "metadata": {
    "pycharm": {
     "name": "#%% md\n"
    }
   },
   "source": [
    "<center><img src=\"http://vpi.pvn.vn/wp-content/uploads/2020/07/VPI_logo.png\" width=50, height=auto/></center>"
   ]
  },
  {
   "cell_type": "markdown",
   "id": "a297fdb9-c85f-4d2b-bb79-670ea5512186",
   "metadata": {
    "pycharm": {
     "name": "#%% md\n"
    }
   },
   "source": [
    "<h1><center>Train an Classification Algorithm</center></h1>"
   ]
  },
  {
   "cell_type": "markdown",
   "id": "7edddead-2687-4743-9c64-d749fa3b43be",
   "metadata": {
    "pycharm": {
     "name": "#%% md\n"
    }
   },
   "source": [
    "## Import libraries"
   ]
  },
  {
   "cell_type": "code",
   "execution_count": 1,
   "id": "f393a8a5-e2ad-468e-90f0-5042d684c263",
   "metadata": {
    "pycharm": {
     "name": "#%%\n"
    }
   },
   "outputs": [
    {
     "name": "stdout",
     "output_type": "stream",
     "text": [
      "\u001B[31mERROR: Could not find a version that satisfies the requirement 0.2.3 (from versions: none)\u001B[0m\u001B[31m\n",
      "\u001B[0m\u001B[31mERROR: No matching distribution found for 0.2.3\u001B[0m\u001B[31m\n",
      "\u001B[0m"
     ]
    }
   ],
   "source": [
    "!pip install mlens scikit-optimize imblearn optuna"
   ]
  },
  {
   "cell_type": "code",
   "execution_count": 2,
   "id": "7a5ac7ff-b378-40ad-b333-d4382972eae2",
   "metadata": {
    "pycharm": {
     "name": "#%%\n"
    }
   },
   "outputs": [],
   "source": [
    "import sys\n",
    "sys.path.append('../')"
   ]
  },
  {
   "cell_type": "code",
   "execution_count": 3,
   "id": "b1aa0413-8a2c-493c-9f18-161db9a92f86",
   "metadata": {
    "pycharm": {
     "name": "#%%\n"
    }
   },
   "outputs": [
    {
     "name": "stderr",
     "output_type": "stream",
     "text": [
      "[MLENS] backend: threading\n"
     ]
    }
   ],
   "source": [
    "import numpy as np\n",
    "from Classification.binary_optuna import Optuna_Classifier\n",
    "import pandas as pd\n",
    "pd.set_option('display.max_columns', 100)\n",
    "import warnings\n",
    "warnings.filterwarnings('ignore')\n",
    "pd.set_option('display.max_columns', 100)"
   ]
  },
  {
   "cell_type": "markdown",
   "id": "12ccffd7-fe4d-46e6-a3fe-d938a50b5d01",
   "metadata": {
    "pycharm": {
     "name": "#%% md\n"
    }
   },
   "source": [
    "## Import data"
   ]
  },
  {
   "cell_type": "code",
   "execution_count": 4,
   "id": "c9c8cd1c-d5c9-4759-82bd-4ad8deeb756d",
   "metadata": {
    "pycharm": {
     "name": "#%%\n"
    }
   },
   "outputs": [],
   "source": [
    "seed = 42\n",
    "data_path = '../data/220718-newdata.csv'\n",
    "data = pd.read_csv(data_path)\n",
    "features = [\"DXC\", \"SPP\", \"TORQUE\", \"FLWPMPS\", \"ROP\", \"RPM\"]\n",
    "\n",
    "label = 'FRACTURE_ZONE'\n",
    "data = data.dropna(subset=[label])\n",
    "X = np.log1p(data[features])\n",
    "X = pd.DataFrame(X, columns=features)\n",
    "labels = data[label]\n"
   ]
  },
  {
   "cell_type": "markdown",
   "id": "66c68529-bd68-441e-8ba0-60569849a3e9",
   "metadata": {
    "pycharm": {
     "name": "#%% md\n"
    }
   },
   "source": [
    "## Train Algorithm"
   ]
  },
  {
   "cell_type": "code",
   "execution_count": 5,
   "id": "9ed2408c-dcc4-47ba-9d22-34d0c5438165",
   "metadata": {
    "pycharm": {
     "name": "#%%\n"
    }
   },
   "outputs": [
    {
     "name": "stdout",
     "output_type": "stream",
     "text": [
      "Done!\n",
      "- Train_score: 0.807314405671851\n",
      "- Valid_score: 0.7982123167730343\n"
     ]
    }
   ],
   "source": [
    "Model, train_score, valid_score = Optuna_Classifier(\n",
    "    features=X,\n",
    "    labels=labels,\n",
    "    validation_size=0.2,\n",
    "    scoring='roc_auc',\n",
    "    algorithm='XGBoost',\n",
    "    imbalanced=True,\n",
    ")\n"
   ]
  },
  {
   "cell_type": "code",
   "execution_count": null,
   "id": "b8ad94d5-3e3f-4459-a200-5d3581229c8d",
   "metadata": {
    "pycharm": {
     "name": "#%%\n"
    }
   },
   "outputs": [],
   "source": []
  }
 ],
 "metadata": {
  "kernelspec": {
   "display_name": "apache-airflow",
   "language": "python",
   "name": "apache-airflow"
  },
  "language_info": {
   "codemirror_mode": {
    "name": "ipython",
    "version": 3
   },
   "file_extension": ".py",
   "mimetype": "text/x-python",
   "name": "python",
   "nbconvert_exporter": "python",
   "pygments_lexer": "ipython3",
   "version": "3.9.12"
  }
 },
 "nbformat": 4,
 "nbformat_minor": 5
}